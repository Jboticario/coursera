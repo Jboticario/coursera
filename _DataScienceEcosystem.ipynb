{
  "metadata": {
    "language_info": {
      "codemirror_mode": {
        "name": "javascript"
      },
      "file_extension": ".js",
      "mimetype": "text/javascript",
      "name": "javascript",
      "nbconvert_exporter": "javascript",
      "pygments_lexer": "javascript",
      "version": "es2017"
    },
    "kernelspec": {
      "name": "javascript",
      "display_name": "JavaScript",
      "language": "javascript"
    }
  },
  "nbformat_minor": 4,
  "nbformat": 4,
  "cells": [
    {
      "cell_type": "markdown",
      "source": "# Data Science Tools and Ecosystem",
      "metadata": {}
    },
    {
      "cell_type": "markdown",
      "source": "In this notebook, Data Science Tools and Ecosystem are summarized.",
      "metadata": {}
    },
    {
      "cell_type": "markdown",
      "source": "Some of the popular languages that Data Scientists use are:\n\n1. Python\n2. R\n3. SQL",
      "metadata": {}
    },
    {
      "cell_type": "markdown",
      "source": "Some of the commonly used libraries used by Data Scientists include:\n\n1. NumPy\n2. Pandas\n3. Matplotlib",
      "metadata": {}
    },
    {
      "cell_type": "markdown",
      "source": "| Data Science Tools |\n| ------------------ |\n| Jupyter Notebook   |\n| Spyder             |\n| RStudio            |",
      "metadata": {}
    },
    {
      "cell_type": "markdown",
      "source": "### Evaluating Arithmetic Expressions in Python\n\nBelow are a few examples of evaluating arithmetic expressions in Python:",
      "metadata": {}
    },
    {
      "cell_type": "code",
      "source": "<!-- This is a simple arithmetic expression to multiply then add integers  -->\n3 * 4 + 5",
      "metadata": {
        "trusted": true
      },
      "execution_count": 11,
      "outputs": [
        {
          "execution_count": 11,
          "output_type": "execute_result",
          "data": {
            "text/plain": 17
          },
          "metadata": {}
        }
      ]
    },
    {
      "cell_type": "code",
      "source": "<!-- This will convert 200 minutes to hours by dividing by 60  -->\n200/60",
      "metadata": {
        "trusted": true
      },
      "execution_count": 12,
      "outputs": [
        {
          "execution_count": 12,
          "output_type": "execute_result",
          "data": {
            "text/plain": 3.3333333333333335
          },
          "metadata": {}
        }
      ]
    },
    {
      "cell_type": "markdown",
      "source": "**Objectives:**\n\n- List some of the popular languages used in Data Science\n- Introduce some commonly used libraries for Data Science\n- Create a table of popular Data Science tools\n- Demonstrate how to evaluate simple arithmetic expressions in Python\n- Convert minutes to hours using arithmetic operators in Python",
      "metadata": {}
    },
    {
      "cell_type": "markdown",
      "source": "## Author\nJeffrey Boticario",
      "metadata": {}
    },
    {
      "cell_type": "code",
      "source": "",
      "metadata": {},
      "execution_count": null,
      "outputs": []
    }
  ]
}